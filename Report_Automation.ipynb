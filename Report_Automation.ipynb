{
 "cells": [
  {
   "cell_type": "markdown",
   "metadata": {},
   "source": [
    "Automating Report Preparation for Health Claims Adjudication\n",
    "\n",
    "Pharmacies send excel file including details of drugs given to patients as free product.\n",
    "Details client sends is validated against database to confirm eligibility of the patients, then based on drug name and ID, the Client and Group information is pulled.\n",
    "The report is saved in a master file in Excel which is used by other departments in the company."
   ]
  },
  {
   "cell_type": "code",
   "execution_count": null,
   "metadata": {},
   "outputs": [],
   "source": [
    "# Read excel file\n",
    "import pandas as pd\n",
    "\n",
    "df = pd.read_excel('Client_Data.xlsx', skiprows=1, usecols=[0,1,2,3,4,5,6])"
   ]
  },
  {
   "cell_type": "code",
   "execution_count": null,
   "metadata": {},
   "outputs": [],
   "source": [
    "print(df.head)"
   ]
  },
  {
   "cell_type": "code",
   "execution_count": null,
   "metadata": {},
   "outputs": [],
   "source": [
    "# Get the $ value of amount paid: each drug cost $250\n",
    "\n",
    "df['Amount Paid'] = (df['Quantity Provided']*250).apply(lambda x: f\"${x:,.2f}\")"
   ]
  },
  {
   "cell_type": "code",
   "execution_count": null,
   "metadata": {},
   "outputs": [],
   "source": [
    "# Normlize Certificate ID length to 10 digits: Adding leading 0's and removing spaces inbetween Certificate IDs\n",
    "\n",
    "df['Certificate ID'] = df['Certificate ID'].apply(lambda x:str(x).replace(\" \",\"\").zfill(10))\n",
    "\n",
    "# Concatenate Certificate IDs into a single string for SQL query\n",
    "certificate_list = ','.join([f\"'{certificate}'\" for certificate in df['Certificate ID']])"
   ]
  },
  {
   "cell_type": "code",
   "execution_count": null,
   "metadata": {},
   "outputs": [],
   "source": [
    "print(certificate_list)"
   ]
  },
  {
   "cell_type": "code",
   "execution_count": null,
   "metadata": {},
   "outputs": [],
   "source": [
    "# Query the database to check for the validitity and eligibility of the Certificates\n",
    "\n",
    "import pyodbc\n",
    "\n",
    "# Establish connection to SQL Server\n",
    "conn = pyodbc.connect('DRIVER={SQL Server};SERVER=LAPTOP-906TRAKG\\SQLEXPRESS;DATABASE=Eligibility;Trusted_Connection=yes;')\n",
    "\n",
    "\n",
    "# SQL query to check eligibility\n",
    "query = f\"SELECT Certificate,[Group ID], [Group Name], [Client ID],[Client Name], [Province] FROM [Eligibility].[dbo].[Cert_Eligibility] WHERE [Certificate] IN ({certificate_list})\"\n",
    "eligibility_df = pd.read_sql(query, conn)\n",
    "\n",
    "conn.close()\n"
   ]
  },
  {
   "cell_type": "code",
   "execution_count": null,
   "metadata": {},
   "outputs": [],
   "source": [
    "# Merge Client's file with Eligibility data to return valid Certificates\n",
    "\n",
    "merged_df = pd.merge(df, eligibility_df, left_on='Certificate ID', right_on='Certificate', how='left')"
   ]
  },
  {
   "cell_type": "code",
   "execution_count": null,
   "metadata": {},
   "outputs": [],
   "source": [
    "print(merged_df)"
   ]
  },
  {
   "cell_type": "code",
   "execution_count": null,
   "metadata": {},
   "outputs": [],
   "source": [
    "#Filter out rows where eligibility certificate is missing and drop extra certificate column from eligibility table: invalid certificates not found in the database\n",
    "valid_certs_df = merged_df[~merged_df['Certificate'].isna()].drop(columns=['Certificate'])"
   ]
  },
  {
   "cell_type": "code",
   "execution_count": null,
   "metadata": {},
   "outputs": [],
   "source": [
    "print(valid_certs_df.head)"
   ]
  },
  {
   "cell_type": "code",
   "execution_count": null,
   "metadata": {},
   "outputs": [],
   "source": [
    "# Add the report date\n",
    "from datetime import datetime\n",
    "valid_certs_df['Updated Date'] = datetime.now().strftime('%d-%b-%y')"
   ]
  },
  {
   "cell_type": "code",
   "execution_count": null,
   "metadata": {},
   "outputs": [],
   "source": [
    "# Merge 'First Name' and 'Last Name' into a single 'Patient Name' Column\n",
    "valid_certs_df['Patient Name'] = valid_certs_df['First Name'] +' ' + valid_certs_df['Last Name'].drop(columns=['First Name','Last Name'])"
   ]
  },
  {
   "cell_type": "code",
   "execution_count": null,
   "metadata": {},
   "outputs": [],
   "source": [
    "# Arrange the columns in order for the report\n",
    "final_columns = ['Updated Date', 'Certificate ID', 'Patient Name', 'Province', 'Drug Name', 'Drug ID', \n",
    "                 'Client ID', 'Client Name', 'Group ID', 'Group Name', 'Date Dispensed', 'Quantity Provided', 'Amount Paid']"
   ]
  },
  {
   "cell_type": "code",
   "execution_count": null,
   "metadata": {},
   "outputs": [],
   "source": [
    "final_df = valid_certs_df[final_columns]"
   ]
  },
  {
   "cell_type": "code",
   "execution_count": null,
   "metadata": {},
   "outputs": [],
   "source": [
    "#Append Data to Excel: \n",
    "file_path = 'Final Report.xlsx'"
   ]
  },
  {
   "cell_type": "code",
   "execution_count": null,
   "metadata": {},
   "outputs": [],
   "source": [
    "\n",
    "import os\n",
    "\n",
    "if os.path.exists(file_path):\n",
    "    master_df = pd.read_excel(file_path)"
   ]
  },
  {
   "cell_type": "code",
   "execution_count": null,
   "metadata": {},
   "outputs": [],
   "source": [
    "print (master_df)"
   ]
  },
  {
   "cell_type": "code",
   "execution_count": null,
   "metadata": {},
   "outputs": [],
   "source": [
    "#Append Data to Master file\n",
    "master_df = pd.concat([master_df, final_df], ignore_index=True)\n"
   ]
  },
  {
   "cell_type": "code",
   "execution_count": null,
   "metadata": {},
   "outputs": [],
   "source": [
    "print(master_df.head)"
   ]
  },
  {
   "cell_type": "code",
   "execution_count": null,
   "metadata": {},
   "outputs": [],
   "source": [
    "# Data exported to Excel\n",
    "\n",
    "master_df.to_excel(file_path, index=False)"
   ]
  },
  {
   "cell_type": "code",
   "execution_count": null,
   "metadata": {},
   "outputs": [],
   "source": []
  }
 ],
 "metadata": {
  "kernelspec": {
   "display_name": "Python 3",
   "language": "python",
   "name": "python3"
  },
  "language_info": {
   "codemirror_mode": {
    "name": "ipython",
    "version": 3
   },
   "file_extension": ".py",
   "mimetype": "text/x-python",
   "name": "python",
   "nbconvert_exporter": "python",
   "pygments_lexer": "ipython3",
   "version": "3.12.5"
  }
 },
 "nbformat": 4,
 "nbformat_minor": 2
}
